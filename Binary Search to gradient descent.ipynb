{
 "cells": [
  {
   "cell_type": "markdown",
   "metadata": {},
   "source": [
    "Q: How to find SQRT?\n",
    "A: BInary Search"
   ]
  },
  {
   "cell_type": "code",
   "execution_count": 2,
   "metadata": {},
   "outputs": [
    {
     "data": {
      "text/plain": [
       "625"
      ]
     },
     "execution_count": 2,
     "metadata": {},
     "output_type": "execute_result"
    }
   ],
   "source": [
    "# Find sqrt of 50\n",
    "l = 0\n",
    "r = 25\n",
    "guess = 25\n",
    "guess*guess"
   ]
  },
  {
   "cell_type": "code",
   "execution_count": 3,
   "metadata": {},
   "outputs": [],
   "source": [
    "guess = (l + r)/2"
   ]
  },
  {
   "cell_type": "code",
   "execution_count": 5,
   "metadata": {},
   "outputs": [
    {
     "data": {
      "text/plain": [
       "156.25"
      ]
     },
     "execution_count": 5,
     "metadata": {},
     "output_type": "execute_result"
    }
   ],
   "source": [
    "guess*guess"
   ]
  },
  {
   "cell_type": "code",
   "execution_count": 6,
   "metadata": {},
   "outputs": [],
   "source": [
    "r = guess\n",
    "guess = (l + r)/2\n"
   ]
  },
  {
   "cell_type": "code",
   "execution_count": 7,
   "metadata": {},
   "outputs": [
    {
     "data": {
      "text/plain": [
       "39.0625"
      ]
     },
     "execution_count": 7,
     "metadata": {},
     "output_type": "execute_result"
    }
   ],
   "source": [
    "guess*guess"
   ]
  },
  {
   "cell_type": "code",
   "execution_count": 8,
   "metadata": {},
   "outputs": [
    {
     "data": {
      "text/plain": [
       "87.890625"
      ]
     },
     "execution_count": 8,
     "metadata": {},
     "output_type": "execute_result"
    }
   ],
   "source": [
    "l = guess\n",
    "guess = (l + r)/2\n",
    "guess*guess"
   ]
  },
  {
   "cell_type": "code",
   "execution_count": 9,
   "metadata": {},
   "outputs": [
    {
     "data": {
      "text/plain": [
       "61.03515625"
      ]
     },
     "execution_count": 9,
     "metadata": {},
     "output_type": "execute_result"
    }
   ],
   "source": [
    "r = guess\n",
    "guess = (l + r)/2\n",
    "guess*guess"
   ]
  },
  {
   "cell_type": "code",
   "execution_count": 10,
   "metadata": {},
   "outputs": [
    {
     "data": {
      "text/plain": [
       "49.4384765625"
      ]
     },
     "execution_count": 10,
     "metadata": {},
     "output_type": "execute_result"
    }
   ],
   "source": [
    "r = guess\n",
    "guess = (l + r)/2\n",
    "guess*guess"
   ]
  },
  {
   "cell_type": "code",
   "execution_count": 11,
   "metadata": {},
   "outputs": [
    {
     "data": {
      "text/plain": [
       "55.084228515625"
      ]
     },
     "execution_count": 11,
     "metadata": {},
     "output_type": "execute_result"
    }
   ],
   "source": [
    "l = guess\n",
    "guess = (l + r)/2\n",
    "guess*guess"
   ]
  },
  {
   "cell_type": "code",
   "execution_count": 12,
   "metadata": {},
   "outputs": [
    {
     "data": {
      "text/plain": [
       "52.22320556640625"
      ]
     },
     "execution_count": 12,
     "metadata": {},
     "output_type": "execute_result"
    }
   ],
   "source": [
    "r = guess\n",
    "guess = (l + r)/2\n",
    "guess*guess"
   ]
  },
  {
   "cell_type": "code",
   "execution_count": 13,
   "metadata": {},
   "outputs": [
    {
     "data": {
      "text/plain": [
       "50.82130432128906"
      ]
     },
     "execution_count": 13,
     "metadata": {},
     "output_type": "execute_result"
    }
   ],
   "source": [
    "r = guess\n",
    "guess = (l + r)/2\n",
    "guess*guess"
   ]
  },
  {
   "cell_type": "code",
   "execution_count": 14,
   "metadata": {},
   "outputs": [
    {
     "data": {
      "text/plain": [
       "50.127506256103516"
      ]
     },
     "execution_count": 14,
     "metadata": {},
     "output_type": "execute_result"
    }
   ],
   "source": [
    "r = guess\n",
    "guess = (l + r)/2\n",
    "guess*guess"
   ]
  },
  {
   "cell_type": "code",
   "execution_count": 15,
   "metadata": {},
   "outputs": [
    {
     "data": {
      "text/plain": [
       "49.782395362854004"
      ]
     },
     "execution_count": 15,
     "metadata": {},
     "output_type": "execute_result"
    }
   ],
   "source": [
    "r = guess\n",
    "guess = (l + r)/2\n",
    "guess*guess"
   ]
  },
  {
   "cell_type": "code",
   "execution_count": 16,
   "metadata": {},
   "outputs": [
    {
     "data": {
      "text/plain": [
       "49.95480179786682"
      ]
     },
     "execution_count": 16,
     "metadata": {},
     "output_type": "execute_result"
    }
   ],
   "source": [
    "l = guess\n",
    "guess = (l + r)/2\n",
    "guess*guess"
   ]
  },
  {
   "cell_type": "code",
   "execution_count": 17,
   "metadata": {},
   "outputs": [
    {
     "data": {
      "text/plain": [
       "50.041116774082184"
      ]
     },
     "execution_count": 17,
     "metadata": {},
     "output_type": "execute_result"
    }
   ],
   "source": [
    "l = guess\n",
    "guess = (l + r)/2\n",
    "guess*guess"
   ]
  },
  {
   "cell_type": "code",
   "execution_count": 18,
   "metadata": {},
   "outputs": [
    {
     "data": {
      "text/plain": [
       "49.997949972748756"
      ]
     },
     "execution_count": 18,
     "metadata": {},
     "output_type": "execute_result"
    }
   ],
   "source": [
    "r = guess\n",
    "guess = (l + r)/2\n",
    "guess*guess"
   ]
  },
  {
   "cell_type": "code",
   "execution_count": 19,
   "metadata": {},
   "outputs": [
    {
     "data": {
      "text/plain": [
       "50.019531045109034"
      ]
     },
     "execution_count": 19,
     "metadata": {},
     "output_type": "execute_result"
    }
   ],
   "source": [
    "l = guess\n",
    "guess = (l + r)/2\n",
    "guess*guess"
   ]
  },
  {
   "cell_type": "code",
   "execution_count": 20,
   "metadata": {},
   "outputs": [
    {
     "data": {
      "text/plain": [
       "50.008739926852286"
      ]
     },
     "execution_count": 20,
     "metadata": {},
     "output_type": "execute_result"
    }
   ],
   "source": [
    "r = guess\n",
    "guess = (l + r)/2\n",
    "guess*guess"
   ]
  },
  {
   "cell_type": "code",
   "execution_count": 23,
   "metadata": {},
   "outputs": [],
   "source": [
    "# Q: x*x*x = 67, find x.\n",
    "#A: Binary Search"
   ]
  },
  {
   "cell_type": "code",
   "execution_count": 44,
   "metadata": {},
   "outputs": [
    {
     "data": {
      "text/plain": [
       "37595.375"
      ]
     },
     "execution_count": 44,
     "metadata": {},
     "output_type": "execute_result"
    }
   ],
   "source": [
    "l = 0\n",
    "r = 67\n",
    "x = (l + r)/2\n",
    "x * x * x"
   ]
  },
  {
   "cell_type": "code",
   "execution_count": 24,
   "metadata": {},
   "outputs": [
    {
     "data": {
      "text/plain": [
       "74.08800000000001"
      ]
     },
     "execution_count": 24,
     "metadata": {},
     "output_type": "execute_result"
    }
   ],
   "source": [
    "x = 4.2\n",
    "x*x*x"
   ]
  },
  {
   "cell_type": "code",
   "execution_count": 37,
   "metadata": {},
   "outputs": [
    {
     "data": {
      "text/plain": [
       "68.92099999999999"
      ]
     },
     "execution_count": 37,
     "metadata": {},
     "output_type": "execute_result"
    }
   ],
   "source": [
    "l, r = 4, 4.2\n",
    "x = (l + r)/2\n",
    "x*x*x"
   ]
  },
  {
   "cell_type": "code",
   "execution_count": 32,
   "metadata": {},
   "outputs": [
    {
     "data": {
      "text/plain": [
       "4.00625"
      ]
     },
     "execution_count": 32,
     "metadata": {},
     "output_type": "execute_result"
    }
   ],
   "source": [
    "r"
   ]
  },
  {
   "cell_type": "code",
   "execution_count": 59,
   "metadata": {},
   "outputs": [
    {
     "data": {
      "text/plain": [
       "67.06071885974123"
      ]
     },
     "execution_count": 59,
     "metadata": {},
     "output_type": "execute_result"
    }
   ],
   "source": [
    "l= x\n",
    "x = (l + r)/2\n",
    "x*x*x"
   ]
  },
  {
   "cell_type": "code",
   "execution_count": null,
   "metadata": {},
   "outputs": [],
   "source": []
  },
  {
   "cell_type": "code",
   "execution_count": 2,
   "metadata": {},
   "outputs": [],
   "source": [
    "a = [0,0,0,0,0,0,0,0,0,0,0,1,1,1,1,1]\n",
    "# find the sum of this array in log(n) complexity.\n",
    "# Hint1: Solve using binary search\n"
   ]
  },
  {
   "cell_type": "markdown",
   "metadata": {},
   "source": [
    "# Hint2: \n",
    "\n",
    "```\n",
    "mid = (left + right)//2\n",
    "\n",
    "if a[mid] == 1:\n",
    "    if a[mid-1] == 0:\n",
    "        we found position.\n",
    "    else:\n",
    "        We have to search the left and ignore the right\n",
    "        # right = mid\n",
    "else:\n",
    "    we have to search on the right\n",
    "    ignore the left\n",
    "    # left = mid\n",
    "```"
   ]
  },
  {
   "cell_type": "code",
   "execution_count": 9,
   "metadata": {},
   "outputs": [],
   "source": [
    "a = [0,0,0,0,0,0,0,0,0,0,0,1,1,1,1,1]\n",
    "left = 0\n",
    "right = len(a) - 1"
   ]
  },
  {
   "cell_type": "code",
   "execution_count": 11,
   "metadata": {},
   "outputs": [
    {
     "name": "stdout",
     "output_type": "stream",
     "text": [
      "left: 7, right: 15, mid: 11, a[mid]: 1, a[mid-1]: 0\n",
      "we found position.\n"
     ]
    }
   ],
   "source": [
    "mid = (left + right)//2\n",
    "# print(mid, a[mid])\n",
    "print(f\"left: {left}, right: {right}, mid: {mid}, a[mid]: {a[mid]}, a[mid-1]: {a[mid-1]}\")\n",
    "\n",
    "if a[mid] == 1:\n",
    "    if a[mid-1] == 0:\n",
    "        print(\"we found position.\")\n",
    "    else:\n",
    "        print(\"We have to search the left and ignore the right\")\n",
    "        right = mid\n",
    "else:\n",
    "    print(\"We have to search on the right ignore the left\")\n",
    "    left = mid"
   ]
  },
  {
   "cell_type": "code",
   "execution_count": 56,
   "metadata": {},
   "outputs": [],
   "source": [
    "# Q: arr = [100, 89, 67, 45, 23, 10, -10, 12, 16, 19, 100, 200, 230]\n",
    "# Find min of this convex values?\n",
    "# Hint: Solve using binary search"
   ]
  },
  {
   "cell_type": "code",
   "execution_count": 60,
   "metadata": {},
   "outputs": [],
   "source": [
    "# arr = [100, -10, 12, 16, 19, 100, 200, 230, 300, 305, 560]\n",
    "# Find min of this convex values?\n",
    "# Hint: Solve using binary search"
   ]
  },
  {
   "cell_type": "code",
   "execution_count": 71,
   "metadata": {},
   "outputs": [],
   "source": [
    "# Q: Find the value of x for which value of y is minimum: y = x^2 - 5x\n",
    "\n",
    "# x = 0, y = 0\n",
    "# x = 1, y = -4\n",
    "# x = 2, y = -6\n",
    "# x = 3, y = -6"
   ]
  },
  {
   "cell_type": "code",
   "execution_count": 45,
   "metadata": {},
   "outputs": [],
   "source": [
    "l = -100\n",
    "r = 100\n",
    "def f(x):\n",
    "    return x*x - 5*x"
   ]
  },
  {
   "cell_type": "code",
   "execution_count": 46,
   "metadata": {},
   "outputs": [
    {
     "name": "stdout",
     "output_type": "stream",
     "text": [
      "l: -100, r:100, mid:0.0, vmid: 0.0\n",
      "Going right\n",
      "l: 0.0, r:100, mid:50.0, vmid: 2250.0\n",
      "Going left\n",
      "l: 0.0, r:50.0, mid:25.0, vmid: 500.0\n",
      "Going left\n",
      "l: 0.0, r:25.0, mid:12.5, vmid: 93.75\n",
      "Going left\n",
      "l: 0.0, r:12.5, mid:6.25, vmid: 7.8125\n",
      "Going left\n",
      "l: 0.0, r:6.25, mid:3.125, vmid: -5.859375\n",
      "Going left\n",
      "l: 0.0, r:3.125, mid:1.5625, vmid: -5.37109375\n",
      "Going right\n",
      "l: 1.5625, r:3.125, mid:2.34375, vmid: -6.2255859375\n",
      "Going right\n",
      "l: 2.34375, r:3.125, mid:2.734375, vmid: -6.195068359375\n",
      "Going left\n",
      "l: 2.34375, r:2.734375, mid:2.5390625, vmid: -6.24847412109375\n",
      "Going left\n",
      "l: 2.34375, r:2.5390625, mid:2.44140625, vmid: -6.2465667724609375\n",
      "Going right\n",
      "l: 2.44140625, r:2.5390625, mid:2.490234375, vmid: -6.249904632568359\n",
      "Going right\n",
      "l: 2.490234375, r:2.5390625, mid:2.5146484375, vmid: -6.249785423278809\n",
      "Going left\n",
      "l: 2.490234375, r:2.5146484375, mid:2.50244140625, vmid: -6.2499940395355225\n",
      "Going left\n",
      "l: 2.490234375, r:2.50244140625, mid:2.496337890625, vmid: -6.2499865889549255\n",
      "Going right\n",
      "l: 2.496337890625, r:2.50244140625, mid:2.4993896484375, vmid: -6.24999962747097\n",
      "Going right\n",
      "l: 2.4993896484375, r:2.50244140625, mid:2.50091552734375, vmid: -6.249999161809683\n",
      "Going left\n",
      "l: 2.4993896484375, r:2.50091552734375, mid:2.500152587890625, vmid: -6.249999976716936\n",
      "Going left\n",
      "l: 2.4993896484375, r:2.500152587890625, mid:2.4997711181640625, vmid: -6.249999947613105\n",
      "Going right\n",
      "l: 2.4997711181640625, r:2.500152587890625, mid:2.4999618530273438, vmid: -6.2499999985448085\n",
      "Going right\n",
      "l: 2.4999618530273438, r:2.500152587890625, mid:2.5000572204589844, vmid: -6.249999996725819\n",
      "Going left\n",
      "l: 2.4999618530273438, r:2.5000572204589844, mid:2.500009536743164, vmid: -6.2499999999090505\n",
      "Going left\n",
      "l: 2.4999618530273438, r:2.500009536743164, mid:2.499985694885254, vmid: -6.249999999795364\n",
      "Going right\n",
      "l: 2.499985694885254, r:2.500009536743164, mid:2.499997615814209, vmid: -6.249999999994316\n",
      "Going right\n",
      "l: 2.499997615814209, r:2.500009536743164, mid:2.5000035762786865, vmid: -6.24999999998721\n",
      "found: 2.5000035762786865\n"
     ]
    }
   ],
   "source": [
    "while True:\n",
    "    vl = f(l)\n",
    "    vr = f(r)\n",
    "    mid = (l + r)/2\n",
    "    vmid = f(mid)\n",
    "    print(f\"l: {l}, r:{r}, mid:{mid}, vmid: {vmid}\")\n",
    "    if abs(vl - vr) < 1e-10:\n",
    "        print(\"found:\", mid)\n",
    "        break\n",
    "    else:\n",
    "        righofmidv = f(mid + .000001)\n",
    "        if vmid > righofmidv:\n",
    "            l = mid\n",
    "            print(\"Going right\")\n",
    "        else:\n",
    "            r = mid\n",
    "            print(\"Going left\")"
   ]
  },
  {
   "cell_type": "code",
   "execution_count": 47,
   "metadata": {},
   "outputs": [],
   "source": [
    "# Q: Write you own strategy to minimize x*x - 10x + 10"
   ]
  },
  {
   "cell_type": "code",
   "execution_count": 25,
   "metadata": {},
   "outputs": [
    {
     "data": {
      "text/plain": [
       "500.0"
      ]
     },
     "execution_count": 25,
     "metadata": {},
     "output_type": "execute_result"
    }
   ],
   "source": [
    "l = 0\n",
    "r = 50\n",
    "x = (l + r)/2\n",
    "x**2 - 5*x"
   ]
  },
  {
   "cell_type": "code",
   "execution_count": 64,
   "metadata": {},
   "outputs": [],
   "source": [
    "def f(x):\n",
    "    return x**2 - 5*x"
   ]
  },
  {
   "cell_type": "code",
   "execution_count": 65,
   "metadata": {},
   "outputs": [],
   "source": [
    "x = 5\n",
    "x1 = x + 1e-10\n",
    "y = f(x)\n",
    "y1 = f(x1)"
   ]
  },
  {
   "cell_type": "code",
   "execution_count": 68,
   "metadata": {},
   "outputs": [
    {
     "name": "stdout",
     "output_type": "stream",
     "text": [
      "4.0 -4.0\n",
      "5.0000000001 4.999982650133461e-10\n"
     ]
    }
   ],
   "source": [
    "if y1 > y:\n",
    "    x -= 0.5\n",
    "else:\n",
    "    x += 0.5\n",
    "y = f(x)\n",
    "print(x, y)\n",
    "y1 = f(x1)\n",
    "print(x1, y1)"
   ]
  },
  {
   "cell_type": "code",
   "execution_count": 82,
   "metadata": {},
   "outputs": [],
   "source": [
    "coordinates = [(1, 2), (5, 9), (10,  21)]\n",
    "# Q: Find a straight line (slope and intercept) which fits through points the best\n"
   ]
  },
  {
   "cell_type": "code",
   "execution_count": 83,
   "metadata": {},
   "outputs": [],
   "source": [
    "from matplotlib import pyplot as plt\n"
   ]
  },
  {
   "cell_type": "code",
   "execution_count": 84,
   "metadata": {},
   "outputs": [],
   "source": [
    "x = [x for x, y in coordinates]"
   ]
  },
  {
   "cell_type": "code",
   "execution_count": 85,
   "metadata": {},
   "outputs": [
    {
     "data": {
      "text/plain": [
       "[1, 5, 10]"
      ]
     },
     "execution_count": 85,
     "metadata": {},
     "output_type": "execute_result"
    }
   ],
   "source": [
    "x"
   ]
  },
  {
   "cell_type": "code",
   "execution_count": 86,
   "metadata": {},
   "outputs": [],
   "source": [
    "y = [y for x, y in coordinates]"
   ]
  },
  {
   "cell_type": "code",
   "execution_count": 87,
   "metadata": {},
   "outputs": [
    {
     "data": {
      "text/plain": [
       "[2, 9, 21]"
      ]
     },
     "execution_count": 87,
     "metadata": {},
     "output_type": "execute_result"
    }
   ],
   "source": [
    "y"
   ]
  },
  {
   "cell_type": "code",
   "execution_count": 88,
   "metadata": {},
   "outputs": [
    {
     "data": {
      "text/plain": [
       "<matplotlib.collections.PathCollection at 0x7f973bffd898>"
      ]
     },
     "execution_count": 88,
     "metadata": {},
     "output_type": "execute_result"
    },
    {
     "data": {
      "image/png": "[encoded data removed]",
      "text/plain": [
       "<Figure size 432x288 with 1 Axes>"
      ]
     },
     "metadata": {
      "needs_background": "light"
     },
     "output_type": "display_data"
    }
   ],
   "source": [
    "plt.scatter(x, y)"
   ]
  },
  {
   "cell_type": "markdown",
   "metadata": {},
   "source": [
    "coordinates = [(1, 2), (5, 9), (10,  21)]\n",
    "\n",
    "\n",
    "y = mx + c\n",
    "\n",
    "for x = 1, ypred = m + c\n",
    "\n",
    "for y = 2, how much is error: m+c - 2\n",
    "\n",
    "....\n",
    "Overall Error: `(m+c - 2)**2 + (5m+c - 9)**2 + (10m+c - 21)**2`\n",
    "\n",
    "\n",
    "**Question: Find m and c such that Error is minimum**\n"
   ]
  },
  {
   "cell_type": "code",
   "execution_count": 90,
   "metadata": {},
   "outputs": [],
   "source": [
    "def error(m, c):\n",
    "    return (m+c - 2)**2 + (5*m+c - 9)**2 + (10*m+c - 21)**2"
   ]
  },
  {
   "cell_type": "code",
   "execution_count": 91,
   "metadata": {},
   "outputs": [
    {
     "data": {
      "text/plain": [
       "109"
      ]
     },
     "execution_count": 91,
     "metadata": {},
     "output_type": "execute_result"
    }
   ],
   "source": [
    "error(1, 1)"
   ]
  },
  {
   "cell_type": "code",
   "execution_count": 116,
   "metadata": {},
   "outputs": [
    {
     "data": {
      "text/plain": [
       "57.36"
      ]
     },
     "execution_count": 116,
     "metadata": {},
     "output_type": "execute_result"
    }
   ],
   "source": [
    "error(1.6, 6)"
   ]
  },
  {
   "cell_type": "code",
   "execution_count": 1,
   "metadata": {},
   "outputs": [
    {
     "ename": "SyntaxError",
     "evalue": "invalid syntax (<ipython-input-1-6f7c446b62bf>, line 6)",
     "output_type": "error",
     "traceback": [
      "\u001b[0;36m  File \u001b[0;32m\"<ipython-input-1-6f7c446b62bf>\"\u001b[0;36m, line \u001b[0;32m6\u001b[0m\n\u001b[0;31m    for x = 1, ypred = m + c\u001b[0m\n\u001b[0m          ^\u001b[0m\n\u001b[0;31mSyntaxError\u001b[0m\u001b[0;31m:\u001b[0m invalid syntax\n"
     ]
    }
   ],
   "source": [
    "coordinates = [(1, 2), (5, 9), (10,  21)]\n",
    "\n",
    "\n",
    "y = m1*x*(mx + c) + c1\n",
    "\n",
    "for x = 1, ypred = m + c\n",
    "\n",
    "for y = 2, how much is error: m+c - 2\n",
    "\n",
    "....\n",
    "Overall Error: `(m+c - 2)**2 + (5m+c - 9)**2 + (10m+c - 21)**2`\n",
    "\n",
    "\n",
    "**Question: Find m and c such that Error is minimum**\n"
   ]
  },
  {
   "cell_type": "code",
   "execution_count": 117,
   "metadata": {},
   "outputs": [],
   "source": [
    "def heaviside(z):\n",
    "    if z < 0:\n",
    "        return 0\n",
    "    else:\n",
    "        return 1\n",
    "    "
   ]
  },
  {
   "cell_type": "code",
   "execution_count": 118,
   "metadata": {},
   "outputs": [
    {
     "data": {
      "text/plain": [
       "1"
      ]
     },
     "execution_count": 118,
     "metadata": {},
     "output_type": "execute_result"
    }
   ],
   "source": [
    "heaviside(10)"
   ]
  },
  {
   "cell_type": "markdown",
   "metadata": {},
   "source": [
    "# Assignment: Study the Hebbian principle\n",
    "\n",
    "Hebb’s Rule\n",
    "In order to understand how we train a perceptron we need to understand Hebb’s rule.\n",
    "In his book The Organization of Behavior, published in 1949, Donald Hebb suggested that \n",
    "\n",
    "\"When a biological neuron often triggers another neuron, the connection between these two neurons grows stronger. \"\n"
   ]
  },
  {
   "cell_type": "code",
   "execution_count": null,
   "metadata": {},
   "outputs": [],
   "source": []
  }
 ],
 "metadata": {
  "kernelspec": {
   "display_name": "Python 3",
   "language": "python",
   "name": "python3"
  },
  "language_info": {
   "codemirror_mode": {
    "name": "ipython",
    "version": 3
   },
   "file_extension": ".py",
   "mimetype": "text/x-python",
   "name": "python",
   "nbconvert_exporter": "python",
   "pygments_lexer": "ipython3",
   "version": "3.6.8"
  },
  "toc": {
   "base_numbering": 1,
   "nav_menu": {},
   "number_sections": true,
   "sideBar": true,
   "skip_h1_title": false,
   "title_cell": "Table of Contents",
   "title_sidebar": "Contents",
   "toc_cell": false,
   "toc_position": {},
   "toc_section_display": true,
   "toc_window_display": false
  }
 },
 "nbformat": 4,
 "nbformat_minor": 2
}
